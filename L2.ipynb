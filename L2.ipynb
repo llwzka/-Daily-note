{
 "cells": [
  {
   "cell_type": "markdown",
   "metadata": {},
   "source": [
    "# 利用Python学习数据分析（笔记）"
   ]
  },
  {
   "cell_type": "markdown",
   "metadata": {},
   "source": [
    "## 第二章： Python语法基础，IPython和Jupyter Notebooks\n",
    "\n",
    "### **Ipython的使用**  \n",
    "    ipython原来就像是jupyter notebook的cell一样，而且非常容易开启：在cmd中输入ipython就可以。如果想要用ipython运行py文件的话，可以直接用 %run hello.py  \n",
    "### **Ipython**的优点  \n",
    "    适合进行数据分析，而且输出变量等格式的可读性更高\n",
    "### Ipython和Jupyter Notebook支持tab补全功能\n",
    "### 支持自省功能\n",
    "    - 变量前后使用**?**可以显示对象的信息  \n",
    "    - 如果对象是一个函数或实例方法，定义过的文档字符串，也会显示出信息。 （'''的那种） \n",
    "    - 使用??会显示函数的源码  \n",
    "    - ?还有一个用途，就是像Unix或Windows命令行一样搜索IPython的命名空间。字符与通配符结合可以匹配所有的名字。例如，我们可以获得所有包含load的顶级NumPy命名空间： np.*load*?\n",
    "### %run和%load\n",
    "    - 你可以用%run命令运行所有的Python程序。文件中所有定义的变量（import、函数和全局变量，除非抛出异常），都可以在IPython shell中随后访问  \n",
    "    - 在Jupyter notebook中，你也可以使用%load，它将py文件导入到一个代码格中"
   ]
  },
  {
   "cell_type": "markdown",
   "metadata": {},
   "source": [
    "### 从剪贴板直接执行程序\n",
    "    - 假设已经复制了代码在剪切板上，那么直接在窗口上运行 %paste 就可以直接运行代码了。\n",
    "### Ipython快捷键\n",
    "![快捷键](http://upload-images.jianshu.io/upload_images/7178691-e179f5ea00e50691.png?imageMogr2/auto-orient/strip|imageView2/2/w/1240)"
   ]
  },
  {
   "cell_type": "markdown",
   "metadata": {},
   "source": [
    "### Ipython中的魔术命令\n",
    "    指的是指令前加入 % 符号\n",
    "    例如：  \n",
    "    可以用%timeit测量任何Python语句，例如矩阵乘法，的执行时间\n",
    "![常用魔术命令](http://upload-images.jianshu.io/upload_images/7178691-c72b11add9b8ccf8.png?imageMogr2/auto-orient/strip|imageView2/2/w/1240)"
   ]
  }
 ],
 "metadata": {
  "kernelspec": {
   "display_name": "Python 3",
   "language": "python",
   "name": "python3"
  },
  "language_info": {
   "codemirror_mode": {
    "name": "ipython",
    "version": 3
   },
   "file_extension": ".py",
   "mimetype": "text/x-python",
   "name": "python",
   "nbconvert_exporter": "python",
   "pygments_lexer": "ipython3",
   "version": "3.6.5"
  }
 },
 "nbformat": 4,
 "nbformat_minor": 2
}
