{
 "cells": [
  {
   "cell_type": "code",
   "execution_count": 1,
   "metadata": {},
   "outputs": [
    {
     "name": "stdout",
     "output_type": "stream",
     "text": [
      "Hello World!\n"
     ]
    }
   ],
   "source": [
    "print(\"Hello World!\")"
   ]
  },
  {
   "cell_type": "code",
   "execution_count": 2,
   "metadata": {},
   "outputs": [],
   "source": [
    "import time\n",
    "time.sleep(3)"
   ]
  },
  {
   "cell_type": "code",
   "execution_count": 3,
   "metadata": {},
   "outputs": [
    {
     "data": {
      "text/plain": [
       "'Hello, Tim!'"
      ]
     },
     "execution_count": 3,
     "metadata": {},
     "output_type": "execute_result"
    }
   ],
   "source": [
    "def say_hello(data):\n",
    "    return \"Hello, {}!\".format(data)\n",
    "say_hello('Tim')"
   ]
  },
  {
   "cell_type": "markdown",
   "metadata": {},
   "source": [
    "# 一级标题\n",
    "## 二级标题\n",
    "纯文本\n",
    "**粗体** *斜体*\n",
    "\n",
    "段落要用空行隔开\n",
    "* 列表\n",
    "    * 可缩进\n",
    "    \n",
    "超链接(https://www.example.com)\n",
    "\n",
    "内联代码使用单个倒引号：`foo()`，代码块使用三个倒引号:\n",
    "\n",
    "```\n",
    "bar()\n",
    "```\n",
    "\n",
    "或可由4个空格组成：\n",
    "\n",
    "    foo()\n",
    "    \n",
    "添加图片也很简单：![Alt](https://www.example.com/image.jpg)"
   ]
  },
  {
   "cell_type": "markdown",
   "metadata": {},
   "source": [
    "## 使用快捷键\n",
    "\n",
    "运行单元格：`Ctrl + Enter`\n",
    "\n",
    "切换命令和编辑模式：`Esc`和`Enter`\n",
    "\n",
    "在命令模式下：\n",
    "\n",
    "    Up Down 滚动单元格\n",
    "    \n",
    "    A B 在单元格上下方插入新的单元格\n",
    "    \n",
    "    M 将活动单元格转换为MARKDOWN单元格\n",
    "    \n",
    "    Y 将集获得单元格设置为代码单元格\n",
    "    \n",
    "    D + D 删除活动单元格\n",
    "    \n",
    "    Z 撤销单元格删除"
   ]
  }
 ],
 "metadata": {
  "kernelspec": {
   "display_name": "Python 3",
   "language": "python",
   "name": "python3"
  },
  "language_info": {
   "codemirror_mode": {
    "name": "ipython",
    "version": 3
   },
   "file_extension": ".py",
   "mimetype": "text/x-python",
   "name": "python",
   "nbconvert_exporter": "python",
   "pygments_lexer": "ipython3",
   "version": "3.6.5"
  }
 },
 "nbformat": 4,
 "nbformat_minor": 2
}
