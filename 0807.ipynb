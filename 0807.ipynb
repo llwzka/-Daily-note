{
 "cells": [
  {
   "cell_type": "markdown",
   "metadata": {},
   "source": [
    "# 8月7日笔记\n",
    "\n",
    "## 主要做的事\n",
    "\n",
    "* 上午\n",
    "\n",
    "    * 对自己做的回测系统和C++回测系统比对了一下布林带，发现问题：调用布林带的原因导致速度变慢，其他没有明显影响。但速度问题应该解决。\n",
    "    \n",
    "* 下午\n",
    "\n",
    "    * 数据处理问题还在继续，写了个json文件，有些烦人。明天还要继续弄。\n",
    "    * 给自己电脑安装了虚拟机和linux，以后可以在电脑里做点东西\n",
    "    \n",
    "\n",
    "## 未来安排\n",
    "\n",
    "首先还是要做今天没做完的数据处理，然后就是解决多策略回测，最后做封装。整个过程可能不能在一周之内完成，可以同时做。不想做的时候就换个。希望这周至少可以做完一项任务。\n",
    "\n"
   ]
  }
 ],
 "metadata": {
  "kernelspec": {
   "display_name": "Python 3",
   "language": "python",
   "name": "python3"
  },
  "language_info": {
   "codemirror_mode": {
    "name": "ipython",
    "version": 3
   },
   "file_extension": ".py",
   "mimetype": "text/x-python",
   "name": "python",
   "nbconvert_exporter": "python",
   "pygments_lexer": "ipython3",
   "version": "3.6.5"
  }
 },
 "nbformat": 4,
 "nbformat_minor": 2
}
