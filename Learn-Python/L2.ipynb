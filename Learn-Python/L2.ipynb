{
 "cells": [
  {
   "cell_type": "markdown",
   "metadata": {},
   "source": [
    "# 利用Python学习数据分析（笔记）"
   ]
  },
  {
   "cell_type": "markdown",
   "metadata": {},
   "source": [
    "## 第二章： Python语法基础，IPython和Jupyter Notebooks\n",
    "\n",
    "### **Ipython的使用**  \n",
    "    ipython原来就像是jupyter notebook的cell一样，而且非常容易开启：在cmd中输入ipython就可以。如果想要用ipython运行py文件的话，可以直接用 %run hello.py  \n",
    "### **Ipython**的优点  \n",
    "    适合进行数据分析，而且输出变量等格式的可读性更高\n",
    "### Ipython和Jupyter Notebook支持tab补全功能\n",
    "### 支持自省功能\n",
    "    - 变量前后使用?可以显示对象的信息  \n",
    "    - 如果对象是一个函数或实例方法，定义过的文档字符串，也会显示出信息。 （'''的那种） \n",
    "    - 使用??会显示函数的源码  \n",
    "    - ?还有一个用途，就是像Unix或Windows命令行一样搜索IPython的命名空间。字符与通配符结合可以匹配所有的名字。例如，我们可以获得所有包含load的顶级NumPy命名空间： np.*load*?\n",
    "### %run和%load\n",
    "    - 你可以用%run命令运行所有的Python程序。文件中所有定义的变量（import、函数和全局变量，除非抛出异常），都可以在IPython shell中随后访问  \n",
    "    - 在Jupyter notebook中，你也可以使用%load，它将py文件导入到一个代码格中"
   ]
  },
  {
   "cell_type": "markdown",
   "metadata": {},
   "source": [
    "### 从剪贴板直接执行程序\n",
    "    - 假设已经复制了代码在剪切板上，那么直接在窗口上运行 %paste 就可以直接运行代码了。\n",
    "### Ipython快捷键\n",
    "![快捷键](http://upload-images.jianshu.io/upload_images/7178691-e179f5ea00e50691.png?imageMogr2/auto-orient/strip|imageView2/2/w/1240)"
   ]
  },
  {
   "cell_type": "markdown",
   "metadata": {},
   "source": [
    "### Ipython中的魔术命令\n",
    "    指的是指令前加入 % 符号\n",
    "    例如：  \n",
    "    可以用%timeit测量任何Python语句，例如矩阵乘法，的执行时间\n",
    "![常用魔术命令](http://upload-images.jianshu.io/upload_images/7178691-c72b11add9b8ccf8.png?imageMogr2/auto-orient/strip|imageView2/2/w/1240)"
   ]
  },
  {
   "cell_type": "markdown",
   "metadata": {},
   "source": [
    "## Python语法相关\n",
    "\n",
    "反斜杠'\\'是转义字符，意思是它备用来表示特殊字符，比如换行符\\n或Unicode字符。要写一个包含反斜杠的字符串，需要进行转义。例如："
   ]
  },
  {
   "cell_type": "code",
   "execution_count": 2,
   "metadata": {},
   "outputs": [
    {
     "name": "stdout",
     "output_type": "stream",
     "text": [
      "12\\34\n"
     ]
    }
   ],
   "source": [
    "s = '12\\\\34'\n",
    "print(s)"
   ]
  },
  {
   "cell_type": "markdown",
   "metadata": {},
   "source": [
    "如果字符串中包含许多反斜杠，但没有特殊字符，这样做就很麻烦。幸好，可以在字符串前面加一个r(表示raw)，表明字符就是它自身："
   ]
  },
  {
   "cell_type": "code",
   "execution_count": 3,
   "metadata": {},
   "outputs": [
    {
     "name": "stdout",
     "output_type": "stream",
     "text": [
      "this\\has\\no\\special\\characters\n"
     ]
    }
   ],
   "source": [
    "s = r'this\\has\\no\\special\\characters'\n",
    "print(s)"
   ]
  },
  {
   "cell_type": "markdown",
   "metadata": {},
   "source": [
    "### Range\n",
    "\n",
    "range是一个迭代器，三个参数为（起点，终点，步长），range产生的整数不包括终点。而且步长必须为整数才行，但可以是复数。"
   ]
  },
  {
   "cell_type": "code",
   "execution_count": 4,
   "metadata": {},
   "outputs": [
    {
     "ename": "TypeError",
     "evalue": "'float' object cannot be interpreted as an integer",
     "output_type": "error",
     "traceback": [
      "\u001b[1;31m---------------------------------------------------------------------------\u001b[0m",
      "\u001b[1;31mTypeError\u001b[0m                                 Traceback (most recent call last)",
      "\u001b[1;32m<ipython-input-4-ffc8137f0c0b>\u001b[0m in \u001b[0;36m<module>\u001b[1;34m()\u001b[0m\n\u001b[1;32m----> 1\u001b[1;33m \u001b[0mrange\u001b[0m\u001b[1;33m(\u001b[0m\u001b[1;36m0\u001b[0m\u001b[1;33m,\u001b[0m\u001b[1;36m10\u001b[0m\u001b[1;33m,\u001b[0m\u001b[1;36m0.5\u001b[0m\u001b[1;33m)\u001b[0m\u001b[1;33m\u001b[0m\u001b[0m\n\u001b[0m",
      "\u001b[1;31mTypeError\u001b[0m: 'float' object cannot be interpreted as an integer"
     ]
    }
   ],
   "source": [
    "range(0,10,0.5)"
   ]
  },
  {
   "cell_type": "markdown",
   "metadata": {},
   "source": [
    "### 三元表达式\n",
    "\n",
    "可以将if和else放到一个语句里：  \n",
    "**value = true-expr if condition else false-expr**"
   ]
  }
 ],
 "metadata": {
  "kernelspec": {
   "display_name": "Python 3",
   "language": "python",
   "name": "python3"
  },
  "language_info": {
   "codemirror_mode": {
    "name": "ipython",
    "version": 3
   },
   "file_extension": ".py",
   "mimetype": "text/x-python",
   "name": "python",
   "nbconvert_exporter": "python",
   "pygments_lexer": "ipython3",
   "version": "3.6.5"
  }
 },
 "nbformat": 4,
 "nbformat_minor": 2
}
